{
 "cells": [
  {
   "cell_type": "code",
   "execution_count": 1,
   "metadata": {},
   "outputs": [],
   "source": [
    "from skimage import data, io, util, segmentation, color, draw, filters\n",
    "import numpy as np\n",
    "from scipy import ndimage\n",
    "%matplotlib inline\n",
    "import matplotlib\n",
    "from matplotlib import cm\n",
    "import matplotlib.lines as mlines\n",
    "import matplotlib.pyplot as plt\n",
    "import os \n",
    "import sys\n",
    "import cv2\n",
    "import json\n"
   ]
  },
  {
   "cell_type": "code",
   "execution_count": 2,
   "metadata": {},
   "outputs": [],
   "source": [
    "# find the list of all images\n",
    "# cycle through them \n",
    "# for each image, ask to manually enter the FOV\n",
    "# store all results in a JSON file"
   ]
  },
  {
   "cell_type": "code",
   "execution_count": 3,
   "metadata": {},
   "outputs": [
    {
     "name": "stdout",
     "output_type": "stream",
     "text": [
      "I'm now in folder /Users/sfiligoj/Desktop/Thesis/Data Analysis/AFM/Extra and will look into /Users/sfiligoj/Desktop/Thesis/Data Analysis/AFM/Extra\n"
     ]
    }
   ],
   "source": [
    "path = \"/Users/sfiligoj/Desktop/Thesis/Data Analysis/AFM/Extra\"\n",
    "os.chdir(path)\n",
    "print(f\"I'm now in folder {os.getcwd()} and will look into {path}\")\n",
    "filess = [f for f in os.listdir(path) if f.endswith('txt')]\n",
    "\n",
    "results = dict.fromkeys(filess) # initialize the dictionary"
   ]
  },
  {
   "cell_type": "code",
   "execution_count": 4,
   "metadata": {},
   "outputs": [
    {
     "name": "stdout",
     "output_type": "stream",
     "text": [
      "file name:Ru_H_500C_FLAT.004.txt\n",
      "Insert the scan size in nm: 1000\n",
      "file name:Ru_H_500C_FLAT.003.txt\n",
      "Insert the scan size in nm: 1000\n",
      "file name:Ru_H_700C_10um_FLAT.004.txt\n",
      "Insert the scan size in nm: 10000\n",
      "file name:Ru_L_700C_200nm_FLAT.000.txt\n",
      "Insert the scan size in nm: 200\n",
      "file name:Ru_H_500C_FLAT.002.txt\n",
      "Insert the scan size in nm: 1000\n",
      "file name:Ru_H_700C_FLAT.008.txt\n",
      "Insert the scan size in nm: 1000\n",
      "file name:Ru_H_700C_FLAT.009.txt\n",
      "Insert the scan size in nm: 1000\n",
      "file name:Ru_H_800C_XPS_10um.034.txt\n",
      "Insert the scan size in nm: 10000\n",
      "file name:Ru_H_600C_FLAT.005.txt\n",
      "Insert the scan size in nm: 1000\n",
      "file name:Ru_H_600C_FLAT.006.txt\n",
      "Insert the scan size in nm: 1000\n",
      "file name:Ru_H_700C_FLAT.010.txt\n",
      "Insert the scan size in nm: 1000\n",
      "file name:Ru_H_700C_FLAT.011.txt\n",
      "Insert the scan size in nm: 1000\n",
      "file name:Ru_H_700C_500nm_FLAT.012.txt\n",
      "Insert the scan size in nm: 500\n",
      "file name:Ru_H_700C_5um_FLAT.003.txt\n",
      "Insert the scan size in nm: 5000\n"
     ]
    }
   ],
   "source": [
    "for file in filess:\n",
    "    print(f'file name:{file}')\n",
    "    results[file] = int(input('Insert the scan size in nm: '))"
   ]
  },
  {
   "cell_type": "markdown",
   "metadata": {},
   "source": [
    "print(results)"
   ]
  },
  {
   "cell_type": "code",
   "execution_count": 5,
   "metadata": {},
   "outputs": [],
   "source": [
    "with open('ScanSizes.json', 'w') as f:\n",
    "    json.dump(results, f, indent=3)"
   ]
  }
 ],
 "metadata": {
  "kernelspec": {
   "display_name": "Python 3",
   "language": "python",
   "name": "python3"
  },
  "language_info": {
   "codemirror_mode": {
    "name": "ipython",
    "version": 3
   },
   "file_extension": ".py",
   "mimetype": "text/x-python",
   "name": "python",
   "nbconvert_exporter": "python",
   "pygments_lexer": "ipython3",
   "version": "3.7.2"
  },
  "toc": {
   "base_numbering": 1,
   "nav_menu": {},
   "number_sections": true,
   "sideBar": true,
   "skip_h1_title": false,
   "title_cell": "Table of Contents",
   "title_sidebar": "Contents",
   "toc_cell": false,
   "toc_position": {},
   "toc_section_display": true,
   "toc_window_display": false
  },
  "varInspector": {
   "cols": {
    "lenName": 16,
    "lenType": 16,
    "lenVar": 40
   },
   "kernels_config": {
    "python": {
     "delete_cmd_postfix": "",
     "delete_cmd_prefix": "del ",
     "library": "var_list.py",
     "varRefreshCmd": "print(var_dic_list())"
    },
    "r": {
     "delete_cmd_postfix": ") ",
     "delete_cmd_prefix": "rm(",
     "library": "var_list.r",
     "varRefreshCmd": "cat(var_dic_list()) "
    }
   },
   "types_to_exclude": [
    "module",
    "function",
    "builtin_function_or_method",
    "instance",
    "_Feature"
   ],
   "window_display": false
  }
 },
 "nbformat": 4,
 "nbformat_minor": 2
}
