{
 "cells": [
  {
   "cell_type": "markdown",
   "metadata": {},
   "source": [
    "# IDEA"
   ]
  },
  {
   "cell_type": "code",
   "execution_count": null,
   "metadata": {},
   "outputs": [],
   "source": [
    " HHcorr = np.zeros(N_Pixel, dtype='float')\n",
    "    for px_dist in range(N_Pixel):\n",
    "        shifted_img = img[:, px_dist+1:].astype(float)\n",
    "        img_section = img[:, : -px_dist-1].astype(float)\n",
    "        HHcorr[px_dist] = np.mean((img_section-shifted_img)**2)"
   ]
  },
  {
   "cell_type": "code",
   "execution_count": null,
   "metadata": {},
   "outputs": [],
   "source": [
    "# we have img of N_Pixel\n",
    "# we devide the img in the smallest deltaPix possible\n",
    "# we calculate HHcorr by taking the difference in height of each deltaPix\n",
    "# for each deltaPix we increment the size of the section by 1, 2, 3, 4\n",
    "\n",
    "for row in image: # prendiamo una riga alla volta\n",
    "    for delta_pix in range(N_px - 10): # consideriamo tutte le possibili distanze\n",
    "        cum_sum = 0\n",
    "        for i in range(N_px-delta_pix): # scorriamo la riga, un pixel alla volt\n",
    "            cum_sum += (row[i]-row[i+delta_pix])**2\n",
    "        HH_corr[delta_pix] = cum_sum/(N_pix - delta_pix)\n",
    "\n"
   ]
  }
 ],
 "metadata": {
  "kernelspec": {
   "display_name": "Python 3",
   "language": "python",
   "name": "python3"
  },
  "language_info": {
   "codemirror_mode": {
    "name": "ipython",
    "version": 3
   },
   "file_extension": ".py",
   "mimetype": "text/x-python",
   "name": "python",
   "nbconvert_exporter": "python",
   "pygments_lexer": "ipython3",
   "version": "3.7.2"
  },
  "toc": {
   "base_numbering": 1,
   "nav_menu": {},
   "number_sections": true,
   "sideBar": true,
   "skip_h1_title": false,
   "title_cell": "Table of Contents",
   "title_sidebar": "Contents",
   "toc_cell": false,
   "toc_position": {},
   "toc_section_display": true,
   "toc_window_display": false
  },
  "varInspector": {
   "cols": {
    "lenName": 16,
    "lenType": 16,
    "lenVar": 40
   },
   "kernels_config": {
    "python": {
     "delete_cmd_postfix": "",
     "delete_cmd_prefix": "del ",
     "library": "var_list.py",
     "varRefreshCmd": "print(var_dic_list())"
    },
    "r": {
     "delete_cmd_postfix": ") ",
     "delete_cmd_prefix": "rm(",
     "library": "var_list.r",
     "varRefreshCmd": "cat(var_dic_list()) "
    }
   },
   "types_to_exclude": [
    "module",
    "function",
    "builtin_function_or_method",
    "instance",
    "_Feature"
   ],
   "window_display": false
  }
 },
 "nbformat": 4,
 "nbformat_minor": 2
}
