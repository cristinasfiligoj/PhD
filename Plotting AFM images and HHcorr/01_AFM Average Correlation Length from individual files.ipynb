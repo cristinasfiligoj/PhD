{
 "cells": [
  {
   "cell_type": "code",
   "execution_count": 32,
   "metadata": {},
   "outputs": [],
   "source": [
    "import numpy \n",
    "import json\n",
    "import os\n",
    "import pandas as pd\n",
    "from pprint import pprint"
   ]
  },
  {
   "cell_type": "code",
   "execution_count": 33,
   "metadata": {},
   "outputs": [
    {
     "name": "stdout",
     "output_type": "stream",
     "text": [
      "Found 6 files\n"
     ]
    }
   ],
   "source": [
    "path = \"/Users/sfiligoj/Desktop/clean/Low-High_Density_Ru/\"\n",
    "\n",
    "os.chdir(path) # can be changed to any path\n",
    "\n",
    "files = [f for f in os.listdir(path) if f.endswith('txt')]\n",
    "print(f\"Found {len(files)} files\")\n",
    "# parsing the structure of the file, which is as follows:\n",
    "# line 1:  Filename = XXXXXXXXX.tif\n",
    "# line 2:  ScanSize = 1180 nm\n",
    "# line 3:  Correlation length = XX.x nm\n",
    "# line 4:  (empty)\n",
    "\n",
    "data = {}\n",
    "\n",
    "for file in files:\n",
    "    with open(file) as f:\n",
    "        lines = f.readlines()\n",
    "        lines.pop(0) # first line is empty\n",
    "        n_measurements = int(len(lines)/4);\n",
    "\n",
    "        for i in range(n_measurements):\n",
    "            filename = lines[i*4+0][12:-6]\n",
    "            temperature = filename[3:6] \n",
    "            if temperature=='asd': temperature = '25'\n",
    "            scansize = lines[i*4+1][12:-5]\n",
    "            corr_len = lines[i*4+2][22:-5]\n",
    "            data[filename] = {}\n",
    "            data[filename]['temp'] = temperature\n",
    "            data[filename]['scansize'] = scansize\n",
    "            data[filename]['corrlen'] = corr_len"
   ]
  },
  {
   "cell_type": "code",
   "execution_count": 26,
   "metadata": {},
   "outputs": [],
   "source": [
    "# with open('json_example.json', 'w') as outfile:\n",
    "#     json.dump(data, outfile, indent=3) # saves to a JSON FILE"
   ]
  },
  {
   "cell_type": "code",
   "execution_count": 34,
   "metadata": {},
   "outputs": [],
   "source": [
    "# pandas dataframe for analysis\n",
    "df = pd.DataFrame.from_dict(data, orient='index')\n",
    "# df.head(5)\n",
    "df.temp = df.temp.astype('float')\n",
    "df.corrlen = df.corrlen.astype('float') # string to float conversion\n",
    "df.scansize= df.scansize.astype('float') # string to float conversion\n",
    "df.reset_index(inplace=True) # restructure the dataframe. Before the index was the filename, now it's a column\n",
    "df.rename(columns={'index':'name'}, inplace=True) # the previous line move the index into a column, we are renaming it"
   ]
  },
  {
   "cell_type": "code",
   "execution_count": 35,
   "metadata": {},
   "outputs": [
    {
     "name": "stdout",
     "output_type": "stream",
     "text": [
      "\n",
      "Average correlation length = 22.5 ± 2e+01\n"
     ]
    }
   ],
   "source": [
    "## dataframes are nice because you can take a column by just using dot notation.\n",
    "## for example\n",
    "all_filenames = df.name # equivalent to \n",
    "# alternatively, you could do:\n",
    "all_filenames = df['name'] #it's the same exact thing\n",
    "# print(all_filenames)\n",
    "# print(type(all_filenames))\n",
    "\n",
    "## A column is a Pandas.Series type, and you can call other methods on it, like .mean() or .std()\n",
    "print(f\"\\nAverage correlation length = {df.corrlen.mean():.3} ± {df.corrlen.std():.2}\")"
   ]
  },
  {
   "cell_type": "code",
   "execution_count": 36,
   "metadata": {},
   "outputs": [],
   "source": [
    "## we can ask which rows satisfy a certain condition, like \n",
    "# print(df.corrlen==24.2) \n",
    "AvCorrLen = {}\n",
    "\n",
    "temperatures = df.temp.unique()\n",
    "\n",
    "# I want to calculate the average correlation length for each temperature\n",
    "# So I cycle through all temperatures and calculate corrlen for each\n",
    "\n",
    "for t in temperatures:\n",
    "    corr = df[df.temp==t].corrlen.mean()\n",
    "    AvCorrLen[t] = {}\n",
    "    AvCorrLen[t]['AvCorr'] = corr\n",
    "    \n",
    "# # Based on that result, we can slect rows in the original dataframe, making a sort of 'filter'\n",
    "#     tAsD = df[df.temp==25]\n",
    "#     t250 = df[df.temp==250]\n",
    "#     t500 = df[df.temp==500]\n",
    "#     t600 = df[df.temp==600] # and we assign this to a new DataFrame\n",
    "#     t700 = df[df.temp==700]\n",
    "#     t800 = df[df.temp==800]\n",
    "\n",
    "# corr1 = tAsD.corrlen.mean()\n",
    "# corr2 = t250.corrlen.mean()\n",
    "# corr3 = t500.corrlen.mean()\n",
    "# corr4 = t600.corrlen.mean()\n",
    "# corr5 = t700.corrlen.mean()\n",
    "# corr6 = t800.corrlen.mean()\n",
    "\n",
    "with open('json_example.json', 'w') as outfile:\n",
    "    json.dump(AvCorrLen, outfile, indent=3) # saves to a JSON FILE"
   ]
  },
  {
   "cell_type": "code",
   "execution_count": null,
   "metadata": {},
   "outputs": [],
   "source": []
  },
  {
   "cell_type": "code",
   "execution_count": null,
   "metadata": {},
   "outputs": [],
   "source": []
  }
 ],
 "metadata": {
  "kernelspec": {
   "display_name": "Python 3",
   "language": "python",
   "name": "python3"
  },
  "language_info": {
   "codemirror_mode": {
    "name": "ipython",
    "version": 3
   },
   "file_extension": ".py",
   "mimetype": "text/x-python",
   "name": "python",
   "nbconvert_exporter": "python",
   "pygments_lexer": "ipython3",
   "version": "3.7.2"
  },
  "toc": {
   "base_numbering": 1,
   "nav_menu": {},
   "number_sections": true,
   "sideBar": true,
   "skip_h1_title": false,
   "title_cell": "Table of Contents",
   "title_sidebar": "Contents",
   "toc_cell": false,
   "toc_position": {},
   "toc_section_display": true,
   "toc_window_display": false
  },
  "varInspector": {
   "cols": {
    "lenName": 16,
    "lenType": 16,
    "lenVar": 40
   },
   "kernels_config": {
    "python": {
     "delete_cmd_postfix": "",
     "delete_cmd_prefix": "del ",
     "library": "var_list.py",
     "varRefreshCmd": "print(var_dic_list())"
    },
    "r": {
     "delete_cmd_postfix": ") ",
     "delete_cmd_prefix": "rm(",
     "library": "var_list.r",
     "varRefreshCmd": "cat(var_dic_list()) "
    }
   },
   "types_to_exclude": [
    "module",
    "function",
    "builtin_function_or_method",
    "instance",
    "_Feature"
   ],
   "window_display": false
  }
 },
 "nbformat": 4,
 "nbformat_minor": 2
}
