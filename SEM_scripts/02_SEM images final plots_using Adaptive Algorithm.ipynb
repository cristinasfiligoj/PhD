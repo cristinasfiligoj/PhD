{
 "cells": [
  {
   "cell_type": "markdown",
   "metadata": {},
   "source": [
    "# Plotting SEM images with insets all in one"
   ]
  },
  {
   "cell_type": "code",
   "execution_count": 3,
   "metadata": {},
   "outputs": [],
   "source": [
    "from skimage import data, io, util, segmentation, color, draw, filters\n",
    "import numpy as np\n",
    "from scipy import ndimage\n",
    "%matplotlib nbagg\n",
    "import matplotlib\n",
    "from matplotlib import cm\n",
    "import matplotlib.lines as mlines\n",
    "import matplotlib.pyplot as plt\n",
    "from PIL import Image\n",
    "import os \n",
    "import sys\n",
    "import cv2\n",
    "import pytesseract\n",
    "from skimage import exposure\n",
    "\n",
    "\n",
    "debug = True #or 'False' when you do not want to debug\n",
    "\n",
    "path = \"/Users/sfiligoj/Google Drive/Crispies/Ru/Plots/SEM/all_T/low-high\"\n",
    "os.chdir(path)\n",
    "filess= os.listdir()\n",
    "filess = [f for f in os.listdir(path) if f.endswith('tif')]"
   ]
  },
  {
   "cell_type": "code",
   "execution_count": 6,
   "metadata": {
    "scrolled": false
   },
   "outputs": [
    {
     "name": "stdout",
     "output_type": "stream",
     "text": [
      "Plotting file: LH_250C_010.tif\n",
      "Plotting file: LH_800C_025.tif\n",
      "Plotting file: LH_600C_019.tif\n",
      "Plotting file: LH_500C_014.tif\n",
      "Plotting file: LH_700C_072.tif\n"
     ]
    }
   ],
   "source": [
    "for file in filess:\n",
    "    print(f\"Plotting file: {file}\")\n",
    "\n",
    "    img = io.imread(file, as_gray=True)\n",
    "    clip_limit = 0.008\n",
    "    img_eq_adaptive = exposure.equalize_adapthist(img, clip_limit=clip_limit)\n",
    "    \n",
    "    if 'L_' in file:\n",
    "        density = 'Low'\n",
    "    elif 'LH_' in file:\n",
    "        density = 'Low-High'\n",
    "    elif 'H_' in file:\n",
    "        density = 'High'\n",
    "\n",
    "#     plt.imshow(img_eq_adaptive[:620,:928], cmap='viridis')\n",
    "    plt.imshow(img_eq_adaptive[:1024,:], cmap='viridis')\n",
    "\n",
    "#     plt.imshow(img_eq_adaptive[:868,:1300], cmap='viridis')\n",
    "#     plt.imshow(img_eq_adaptive[100:390,100:534], cmap='viridis')\n",
    "\n",
    "    plt.axis('off')\n",
    "    plt.title(f'{density} density')\n",
    "    \n",
    "    plt.savefig(f'{file[:-4]}_adjusted.png',dpi=800)\n",
    "\n",
    "    fname = f'{file[:-4]}_adjusted.svg'\n",
    "    print()\n",
    "    plt.savefig(fname=fname, dpi =800)"
   ]
  },
  {
   "cell_type": "code",
   "execution_count": null,
   "metadata": {},
   "outputs": [],
   "source": []
  }
 ],
 "metadata": {
  "kernelspec": {
   "display_name": "Python 3",
   "language": "python",
   "name": "python3"
  },
  "language_info": {
   "codemirror_mode": {
    "name": "ipython",
    "version": 3
   },
   "file_extension": ".py",
   "mimetype": "text/x-python",
   "name": "python",
   "nbconvert_exporter": "python",
   "pygments_lexer": "ipython3",
   "version": "3.7.2"
  },
  "toc": {
   "base_numbering": 1,
   "nav_menu": {},
   "number_sections": true,
   "sideBar": true,
   "skip_h1_title": false,
   "title_cell": "Table of Contents",
   "title_sidebar": "Contents",
   "toc_cell": false,
   "toc_position": {},
   "toc_section_display": true,
   "toc_window_display": false
  },
  "varInspector": {
   "cols": {
    "lenName": 16,
    "lenType": 16,
    "lenVar": 40
   },
   "kernels_config": {
    "python": {
     "delete_cmd_postfix": "",
     "delete_cmd_prefix": "del ",
     "library": "var_list.py",
     "varRefreshCmd": "print(var_dic_list())"
    },
    "r": {
     "delete_cmd_postfix": ") ",
     "delete_cmd_prefix": "rm(",
     "library": "var_list.r",
     "varRefreshCmd": "cat(var_dic_list()) "
    }
   },
   "types_to_exclude": [
    "module",
    "function",
    "builtin_function_or_method",
    "instance",
    "_Feature"
   ],
   "window_display": false
  }
 },
 "nbformat": 4,
 "nbformat_minor": 2
}
